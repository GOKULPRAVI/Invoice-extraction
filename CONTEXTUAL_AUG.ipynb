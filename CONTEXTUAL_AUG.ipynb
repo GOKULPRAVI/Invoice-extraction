{
  "nbformat": 4,
  "nbformat_minor": 0,
  "metadata": {
    "colab": {
      "name": "CONTEXTUAL_AUG.ipynb",
      "provenance": [],
      "collapsed_sections": []
    },
    "kernelspec": {
      "name": "python3",
      "display_name": "Python 3"
    }
  },
  "cells": [
    {
      "cell_type": "code",
      "metadata": {
        "id": "uXDtXNTGKNOy",
        "colab_type": "code",
        "outputId": "b6259961-82dd-47d1-a257-72f5cb617ea8",
        "colab": {
          "base_uri": "https://localhost:8080/",
          "height": 427
        }
      },
      "source": [
        "!pip install transformers"
      ],
      "execution_count": 0,
      "outputs": [
        {
          "output_type": "stream",
          "text": [
            "Requirement already satisfied: transformers in /usr/local/lib/python3.6/dist-packages (2.5.1)\n",
            "Requirement already satisfied: numpy in /usr/local/lib/python3.6/dist-packages (from transformers) (1.18.2)\n",
            "Requirement already satisfied: boto3 in /usr/local/lib/python3.6/dist-packages (from transformers) (1.12.23)\n",
            "Requirement already satisfied: tqdm>=4.27 in /usr/local/lib/python3.6/dist-packages (from transformers) (4.38.0)\n",
            "Requirement already satisfied: requests in /usr/local/lib/python3.6/dist-packages (from transformers) (2.21.0)\n",
            "Requirement already satisfied: tokenizers==0.5.2 in /usr/local/lib/python3.6/dist-packages (from transformers) (0.5.2)\n",
            "Requirement already satisfied: regex!=2019.12.17 in /usr/local/lib/python3.6/dist-packages (from transformers) (2019.12.20)\n",
            "Requirement already satisfied: sacremoses in /usr/local/lib/python3.6/dist-packages (from transformers) (0.0.38)\n",
            "Requirement already satisfied: sentencepiece in /usr/local/lib/python3.6/dist-packages (from transformers) (0.1.85)\n",
            "Requirement already satisfied: filelock in /usr/local/lib/python3.6/dist-packages (from transformers) (3.0.12)\n",
            "Requirement already satisfied: s3transfer<0.4.0,>=0.3.0 in /usr/local/lib/python3.6/dist-packages (from boto3->transformers) (0.3.3)\n",
            "Requirement already satisfied: botocore<1.16.0,>=1.15.23 in /usr/local/lib/python3.6/dist-packages (from boto3->transformers) (1.15.23)\n",
            "Requirement already satisfied: jmespath<1.0.0,>=0.7.1 in /usr/local/lib/python3.6/dist-packages (from boto3->transformers) (0.9.5)\n",
            "Requirement already satisfied: chardet<3.1.0,>=3.0.2 in /usr/local/lib/python3.6/dist-packages (from requests->transformers) (3.0.4)\n",
            "Requirement already satisfied: certifi>=2017.4.17 in /usr/local/lib/python3.6/dist-packages (from requests->transformers) (2019.11.28)\n",
            "Requirement already satisfied: idna<2.9,>=2.5 in /usr/local/lib/python3.6/dist-packages (from requests->transformers) (2.8)\n",
            "Requirement already satisfied: urllib3<1.25,>=1.21.1 in /usr/local/lib/python3.6/dist-packages (from requests->transformers) (1.24.3)\n",
            "Requirement already satisfied: joblib in /usr/local/lib/python3.6/dist-packages (from sacremoses->transformers) (0.14.1)\n",
            "Requirement already satisfied: six in /usr/local/lib/python3.6/dist-packages (from sacremoses->transformers) (1.12.0)\n",
            "Requirement already satisfied: click in /usr/local/lib/python3.6/dist-packages (from sacremoses->transformers) (7.1.1)\n",
            "Requirement already satisfied: docutils<0.16,>=0.10 in /usr/local/lib/python3.6/dist-packages (from botocore<1.16.0,>=1.15.23->boto3->transformers) (0.15.2)\n",
            "Requirement already satisfied: python-dateutil<3.0.0,>=2.1 in /usr/local/lib/python3.6/dist-packages (from botocore<1.16.0,>=1.15.23->boto3->transformers) (2.8.1)\n"
          ],
          "name": "stdout"
        }
      ]
    },
    {
      "cell_type": "code",
      "metadata": {
        "id": "Dqfx37Z1KgqH",
        "colab_type": "code",
        "colab": {}
      },
      "source": [
        "import numpy as np\n",
        "import pandas as pd\n",
        "from sklearn.model_selection import train_test_split\n",
        "from sklearn.linear_model import LogisticRegression\n",
        "from sklearn.model_selection import GridSearchCV\n",
        "from sklearn.model_selection import cross_val_score\n",
        "import torch\n",
        "import transformers as ppb\n",
        "import warnings\n",
        "warnings.filterwarnings('ignore')"
      ],
      "execution_count": 0,
      "outputs": []
    },
    {
      "cell_type": "code",
      "metadata": {
        "id": "p04I_WUsK84S",
        "colab_type": "code",
        "colab": {}
      },
      "source": [
        "##df = pd.read_csv('https://github.com/clairett/pytorch-sentiment-classification/raw/master/data/SST2/train.tsv', delimiter='\\t', header=None)"
      ],
      "execution_count": 0,
      "outputs": []
    },
    {
      "cell_type": "code",
      "metadata": {
        "id": "yF0psrvhLD3g",
        "colab_type": "code",
        "colab": {}
      },
      "source": [
        "##batch_1 = df[:2000]"
      ],
      "execution_count": 0,
      "outputs": []
    },
    {
      "cell_type": "code",
      "metadata": {
        "id": "UIfuUPC1LFuE",
        "colab_type": "code",
        "outputId": "c7124916-4598-439a-ae3f-1c5b38777936",
        "colab": {
          "base_uri": "https://localhost:8080/",
          "height": 70
        }
      },
      "source": [
        "##batch_1[1].value_counts()"
      ],
      "execution_count": 0,
      "outputs": [
        {
          "output_type": "execute_result",
          "data": {
            "text/plain": [
              "1    1041\n",
              "0     959\n",
              "Name: 1, dtype: int64"
            ]
          },
          "metadata": {
            "tags": []
          },
          "execution_count": 5
        }
      ]
    },
    {
      "cell_type": "code",
      "metadata": {
        "id": "k3KJVkmNLRmP",
        "colab_type": "code",
        "colab": {}
      },
      "source": [
        "model_class, tokenizer_class, pretrained_weights = (ppb.BertModel, ppb.BertTokenizer, 'bert-base-cased')\n"
      ],
      "execution_count": 0,
      "outputs": []
    },
    {
      "cell_type": "code",
      "metadata": {
        "id": "DDkGAwICPA2K",
        "colab_type": "code",
        "colab": {}
      },
      "source": [
        "import nltk"
      ],
      "execution_count": 0,
      "outputs": []
    },
    {
      "cell_type": "code",
      "metadata": {
        "id": "dN7pQC9_PDYp",
        "colab_type": "code",
        "outputId": "97e7bcce-5b4d-49d3-f784-093522ddf8d5",
        "colab": {
          "base_uri": "https://localhost:8080/",
          "height": 34
        }
      },
      "source": [
        "pip install nlpaug"
      ],
      "execution_count": 0,
      "outputs": [
        {
          "output_type": "stream",
          "text": [
            "Requirement already satisfied: nlpaug in /usr/local/lib/python3.6/dist-packages (0.0.13.3)\n"
          ],
          "name": "stdout"
        }
      ]
    },
    {
      "cell_type": "code",
      "metadata": {
        "id": "1FHZzZiggaN9",
        "colab_type": "code",
        "colab": {}
      },
      "source": [
        "import nlpaug.augmenter.word as naw"
      ],
      "execution_count": 0,
      "outputs": []
    },
    {
      "cell_type": "code",
      "metadata": {
        "id": "2yABS7bzz3t8",
        "colab_type": "code",
        "colab": {}
      },
      "source": [
        "new = \"\"\"'tax\tO\n",
        "invoice\tO\n",
        "pradeep\tB-customer\n",
        "rajappan\tI-customer\n",
        "invoice\tO\n",
        "issued\tO\n",
        "by\tO\n",
        "uber\tO\n",
        "on\tO\n",
        "behalf\tO\n",
        "of\tO\n",
        ":\tO\n",
        "gstin\tO\n",
        ":\tO\n",
        "n/s\tO\n",
        "mi\tO\n",
        "geevargheese\tB-vendor\n",
        "g\tO\n",
        "kerala\tO\n",
        "invoice\tO\n",
        "number\tO\n",
        ":\tO\n",
        "ybvoxqis-03-2020-0000295\tB-invoiceno\n",
        "invoice\tO\n",
        "date\tO\n",
        ":\tO\n",
        "29\tB-invoicedate\n",
        "january\tB-invoicedate\n",
        "2020\tB-invoicedate\n",
        "place\tO\n",
        "of\tO\n",
        "origin\tO\n",
        "(\tO\n",
        "name\tO\n",
        "of\tO\n",
        "state\tO\n",
        ")\tO\n",
        ":\tO\n",
        "kerala\tO\n",
        "hsn\tO\n",
        "code\tO\n",
        ":\tO\n",
        "9964\tO\n",
        "total\tO\n",
        "amount\tO\n",
        "tax\tO\n",
        "point\tO\n",
        "date\tO\n",
        "description\tO\n",
        "net\tO\n",
        "amount\tO\n",
        "29\tO\n",
        "jan\tO\n",
        "2020\tO\n",
        "transportation\tO\n",
        "service\tO\n",
        "fare\tO\n",
        "igst\tO\n",
        "5\tO\n",
        "%\tO\n",
        "23.29\tO\n",
        "465.71\tO\n",
        "inr\tO\n",
        "total\tO\n",
        "net\tO\n",
        "465.71\tO\n",
        "inr\tO\n",
        "total\tO\n",
        "net\tO\n",
        "amount\tO\n",
        "23.29\tO\n",
        "inr\tO\n",
        "gross\tO\n",
        "amount\tO\n",
        "489.00\tB-amount\n",
        "inr\tO\n",
        ".a\tO\n",
        "a\tO\n",
        "—\tO\n",
        "—\tO\n",
        "—\tO\n",
        "—\tO\n",
        "7\tO\n",
        "7\tO\n",
        "a\tO\n",
        "non\tO\n",
        "signatory\tO\n",
        "category\tO\n",
        "of\tO\n",
        "services\tO\n",
        ":\tO\n",
        "passenger\tB-product\n",
        "transport\tI-product\n",
        "services\tI-product\n",
        "details\tO\n",
        "of\tO\n",
        "eco\tO\n",
        "under\tO\n",
        "gst\tO\n",
        ":\tO\n",
        "name\tO\n",
        ":\tO\n",
        "uber\tO\n",
        "india\tO\n",
        "systems\tO\n",
        "private\tO\n",
        "limited\tO\n",
        "address\tO\n",
        ":\tO\n",
        "unit\tO\n",
        "1-1335/15\tO\n",
        ",\tO\n",
        "1-1335/16\tO\n",
        ",\tO\n",
        "ground\tO\n",
        "&\tO\n",
        "first\tO\n",
        "floor\tO\n",
        ",\tO\n",
        "av-building\tO\n",
        "poonthi\tO\n",
        "road\tO\n",
        ",\tO\n",
        "medical\tO\n",
        "college\tO\n",
        "kumarapuram\tO\n",
        "road\tO\n",
        ",\tO\n",
        "thiru-mala\tO\n",
        ",\tO\n",
        "kerala-695033\tO\n",
        "gst\tO\n",
        ":\tO\n",
        "5\tO\n",
        "%\tO ;\"\"\"\n",
        "\n"
      ],
      "execution_count": 0,
      "outputs": []
    },
    {
      "cell_type": "code",
      "metadata": {
        "id": "4erhOu5KtuTe",
        "colab_type": "code",
        "outputId": "37ae900c-918d-46ee-a597-1b16a852adad",
        "colab": {
          "base_uri": "https://localhost:8080/",
          "height": 481
        }
      },
      "source": [
        "aug = naw.ContextualWordEmbsAug(\n",
        "    model_path='bert-base-cased', action=\"substitute\")\n",
        "augmented_text = aug.augment(invoice,n=5,num_thread=15)\n",
        "print(\"Original:\")\n",
        "print(invoice)\n",
        "print(\"Augmented Text:\")\n",
        "print(augmented_text)"
      ],
      "execution_count": 0,
      "outputs": [
        {
          "output_type": "stream",
          "text": [
            "Original:\n",
            "Acme, Inc. Invoice Number #000009;\n",
            "555-555-1234 x137;\n",
            "Issue Date 2018-04-11;\n",
            "Due Date 2018-04-11;\n",
            "Bill to: Ship to:;\n",
            "Marty McFly Marty McFly PAID $685.35;\n",
            "200 Billing Rd. 100 Shipping St.;\n",
            "Suite 100 Apt 200;\n",
            "Needham, MA 02494 Pleasantville, NC 12345;\n",
            "Item Quantity Unit Price Amount;\n",
            "Professional Plan! 1 $99.00 $99.00;\n",
            "04/11/2018 - 05/11/2018;\n",
            "Small Instance (Hourly)! 764 $0.25 $191.00;\n",
            "Large Instance (Hourly)! 943 $0.50 $471.50;\n",
            "Subtotal $761.50;\n",
            "Discount(s) Applied:;\n",
            "Discounts ($76.15);\n",
            "1. MULTI3 - Multi-service discount (10%) $76.15 Total $685.35;\n",
            "Paid $685.35;\n",
            "Due $0.00;\n",
            "Payment History;\n",
            "04/11/2018 03:20PM EDT Credit card payment: $685.35 (Visa, XXXX-XXXX-XXXX-1111);\n",
            "Augmented Text:\n",
            "['Acme , Inc . Invoice Number # 000009 ; 55  - 555 - 1234 ) ; Issue Date 2018 - 04 - 11 ; Due Date 2018 - 05 - 11 ; Bill to : Ship to : ; Marty McFly Marty M . PAID $ 685 . 35 ; 200 Billing Rd . 100 Shipping St . ; Suite 100 Apt 200 ; Needham , MA 02494 Pleasantville , NC 12345 ; For Quantity Unit Price Amount ; Professional Plan ! 1 $ 99 . 00 $ 99 . 00 ; 04 / 11 / 2018 - 05 / 11 / 2018 ; Small Instance ( Hourly ) ! 764 $ 0 . 25 $ 191 . 00 ; Large Instance ( Hourly ) ! 943 $ 0 . 50 $ 471 . 50 ; Sub : $ 761 . 50 ; Discount ( s ) Applied : ; Discounts ( $ 76 . 15 ) ; 1 . MULTI3 - Multi - service discount ( 10 % ) $ 76 . 15 Total $ 685 . 35 ; Paid $ 685 . 35 ; Due $ 0 . 00 ; Payment History ; 3 / 11 / 2018 03 : 20 ; EDT Credit card payment : $ 685 . 35 ( Visa , XXXX - XXXX - 01  - 1111 ) ;', 'Oracle , Inc . Invoice Number # 000009 ; 555 - 555 - 1234 x13  ; Issue Date 2018 - 04 - 17 ; Due Date 2018 - 04 - 17 ; Ship to : Ship to : ; Marty McFly Marty M . PAID $ 685 . 35 ; 200 Billing Rd . 100 Shipping St . ; Suite 100 Apt 200 ; Portsmouth , MA 02494 Pleasantville , NC 12345 ; Item Quantity Unit Price Amount ; Professional Plan ! 1 $ 99 . 00 $ 99 . 00 ; 04 / 11 / 2018 - 05 / 11 / 2018 ; Small Instance ( Hourly ) ! 764 $ 0 . 25 $ 191 . 00 ; Large Instance ( Hourly ) ! 943 $ 0 . 50 $ 471 . 50 ; Subtotal $ 761 . 50 ; Discount ( monthly ) Applied : ; Discounts ( $ 76 . 15 ) ; 1 . MULTI3 - Multi - service discount ( 10 % ) $ 76 . 15 Total $ 685 . 35 ; Paid $ 685 . 35 ; Due $ 103 . 00 ; Payment History ; 04 / 11 / 2018 03 : 20PM EDT Credit card payment : $ 685 . 35 ( Visa , XXXX - X  - XXXX - 1111 ) ;', 'Acme , Inc . Invoice Number # 000009 ; 555 - 555 - 1234 x137 ; Issue Date 2018 - 04 - 11 ; Due Date 2018 - 04 - 11 ; Bill to : Ship to : ; Marty McFly Marty McFly PAID $ 685 . 35 ; 200 Billing St . 100 Shipping St . ; Suite 100 Apt 200 ; Needham , MA 02494 Pleasantville , NC 12345 ; Item Quantity Unit Price Amount ; Business Plan ! 1 $ 99 . 00 $ 99 . 00 ; 04 / 11 / 2018 - 05 / 11 / 2018 ; Small Instance ( Hourly ) ! 764 $ 0 . 25 $ 191 . 00 ; Large Instance ( Hourly ) ! 943 $ 0 . 50 $ 471 . 50 ; Subtotal $ 761 . 50 ; Discount ( s ) Applied : ; Disco  ( $ 76 . 90 ) ; 1 . MULTI3 - Multi - service discount ( 75 % ) $ 0 . 15 Total $ 68 5 . 35 ; Paid $ 685 . 35 ; Due $ 0 . 00 ; Pay in History ; 04 / 11 / 2018 03 : 20PM EDT Credit card payment : $ 685 . 35 ( Visa , XXXX - X XI - XXX XIII - 1111 ) ;', 'Acme , Inc . Invoice Number # 000009 ; 44 - 555 - 1234 x137 ; Issue Date 2018 - 04 - 18 ; Due Date 2018 - 04 - 11 ; Bill Process : Ship to : ; Marty McFly . McFly PAID $ 685 . 35 ; 200 Billing Rd . 100 Shipping St . ; Suite 100 Apt 8 ; Needham , MA 02494 Pleasantville , NC 12345 ; Item Quantity Unit Price Amount ; Professional : ! 1 $ 99 . 00 $ 99 . 00 ; 04 / 11 / 2018 - 05 / 11 / 2018 ; Small Instance ( Hourly ) ! 764 $ 0 . 25 $ 191 . 00 ; Large In Nature ( Hourly ) ! 943 $ 2 . 50 $ 471 . 50 ; Subtotal $ 761 . 50 ; Discount ( s ) Applied : ; Discounts ( $ 76 . 15 ) ; 1 . 05 - Multi - service discount ( 10 % ) $ 76 . 15 Total $ 685 . 35 ; Paid $ 685 . 35 ; Due $ 0 . 00 ; Payment History ; 10 / 11 / 2018 03 : 20PM EDT Credit card payment : $ 685 . 35 ( Visa , XXXX - XXXX - XXXX - 1111 ) ;', 'Acme , Inc . Invoice Number # 000009 ; 555 - 555 - 1234 x137 ; Issue Date 2018 - 04 - 11 ; Due Date 2018 - 04 - 11 ; Ship to : Ship to : ; Marty McFly Marty McFly PAID $ 685 . 35 ; 200 Billing Rd . 100 Shipping St . ; Suite 100 Apt 200 ; Needham , MA 0249 ; Pleasantville , NC 12345 ; Item : Unit Price Am . ; Professional Plan ! 1 $ 99 . 00 $ 99 . 00 ; 04 / 11 / 2018 - 04 / 11 / 2018 ; Small Instance ( Hourly ) ! 764 $ 1 . 25 $ 191 . 00 ; Large Case ( Hourly ) ! 943 $ 0 . 50 $ 471 . 50 ; Subtotal $ 0 . 50 ; Discount ( s ) Applied : ; Discounts ( $ 76 . 15 ) ; 1 . MULTI3 - Multi - service discount ( 10 % ) $ 1 . 15 Total $ 0 . 35 ; Paid $ 685 . 35 ; Due $ 0 . 00 ; Payment History ; 04 / 11 / 2018 03 : 20PM EDT Credit card payment : $ 685 . 35 ( Visa , XXXX - XXXX - XXXX - 1111 ) ;']\n"
          ],
          "name": "stdout"
        }
      ]
    },
    {
      "cell_type": "code",
      "metadata": {
        "id": "cH_mXembdRR1",
        "colab_type": "code",
        "colab": {}
      },
      "source": [
        "a = str(augmented_text)"
      ],
      "execution_count": 0,
      "outputs": []
    },
    {
      "cell_type": "code",
      "metadata": {
        "id": "p_KBB3aweWfm",
        "colab_type": "code",
        "colab": {}
      },
      "source": [
        "a = a.replace(';', '\\n')"
      ],
      "execution_count": 0,
      "outputs": []
    },
    {
      "cell_type": "code",
      "metadata": {
        "id": "qTFf1qsafB22",
        "colab_type": "code",
        "outputId": "59991955-9178-4f8e-90ef-2a89e150d656",
        "colab": {
          "base_uri": "https://localhost:8080/",
          "height": 54
        }
      },
      "source": [
        "a"
      ],
      "execution_count": 0,
      "outputs": [
        {
          "output_type": "execute_result",
          "data": {
            "text/plain": [
              "\"['Acme , Inc . Invoice Number # 000009 \\n 55  - 555 - 1234 ) \\n Issue Date 2018 - 04 - 11 \\n Due Date 2018 - 05 - 11 \\n Bill to : Ship to : \\n Marty McFly Marty M . PAID $ 685 . 35 \\n 200 Billing Rd . 100 Shipping St . \\n Suite 100 Apt 200 \\n Needham , MA 02494 Pleasantville , NC 12345 \\n For Quantity Unit Price Amount \\n Professional Plan ! 1 $ 99 . 00 $ 99 . 00 \\n 04 / 11 / 2018 - 05 / 11 / 2018 \\n Small Instance ( Hourly ) ! 764 $ 0 . 25 $ 191 . 00 \\n Large Instance ( Hourly ) ! 943 $ 0 . 50 $ 471 . 50 \\n Sub : $ 761 . 50 \\n Discount ( s ) Applied : \\n Discounts ( $ 76 . 15 ) \\n 1 . MULTI3 - Multi - service discount ( 10 % ) $ 76 . 15 Total $ 685 . 35 \\n Paid $ 685 . 35 \\n Due $ 0 . 00 \\n Payment History \\n 3 / 11 / 2018 03 : 20 \\n EDT Credit card payment : $ 685 . 35 ( Visa , XXXX - XXXX - 01  - 1111 ) \\n', 'Oracle , Inc . Invoice Number # 000009 \\n 555 - 555 - 1234 x13  \\n Issue Date 2018 - 04 - 17 \\n Due Date 2018 - 04 - 17 \\n Ship to : Ship to : \\n Marty McFly Marty M . PAID $ 685 . 35 \\n 200 Billing Rd . 100 Shipping St . \\n Suite 100 Apt 200 \\n Portsmouth , MA 02494 Pleasantville , NC 12345 \\n Item Quantity Unit Price Amount \\n Professional Plan ! 1 $ 99 . 00 $ 99 . 00 \\n 04 / 11 / 2018 - 05 / 11 / 2018 \\n Small Instance ( Hourly ) ! 764 $ 0 . 25 $ 191 . 00 \\n Large Instance ( Hourly ) ! 943 $ 0 . 50 $ 471 . 50 \\n Subtotal $ 761 . 50 \\n Discount ( monthly ) Applied : \\n Discounts ( $ 76 . 15 ) \\n 1 . MULTI3 - Multi - service discount ( 10 % ) $ 76 . 15 Total $ 685 . 35 \\n Paid $ 685 . 35 \\n Due $ 103 . 00 \\n Payment History \\n 04 / 11 / 2018 03 : 20PM EDT Credit card payment : $ 685 . 35 ( Visa , XXXX - X  - XXXX - 1111 ) \\n', 'Acme , Inc . Invoice Number # 000009 \\n 555 - 555 - 1234 x137 \\n Issue Date 2018 - 04 - 11 \\n Due Date 2018 - 04 - 11 \\n Bill to : Ship to : \\n Marty McFly Marty McFly PAID $ 685 . 35 \\n 200 Billing St . 100 Shipping St . \\n Suite 100 Apt 200 \\n Needham , MA 02494 Pleasantville , NC 12345 \\n Item Quantity Unit Price Amount \\n Business Plan ! 1 $ 99 . 00 $ 99 . 00 \\n 04 / 11 / 2018 - 05 / 11 / 2018 \\n Small Instance ( Hourly ) ! 764 $ 0 . 25 $ 191 . 00 \\n Large Instance ( Hourly ) ! 943 $ 0 . 50 $ 471 . 50 \\n Subtotal $ 761 . 50 \\n Discount ( s ) Applied : \\n Disco  ( $ 76 . 90 ) \\n 1 . MULTI3 - Multi - service discount ( 75 % ) $ 0 . 15 Total $ 68 5 . 35 \\n Paid $ 685 . 35 \\n Due $ 0 . 00 \\n Pay in History \\n 04 / 11 / 2018 03 : 20PM EDT Credit card payment : $ 685 . 35 ( Visa , XXXX - X XI - XXX XIII - 1111 ) \\n', 'Acme , Inc . Invoice Number # 000009 \\n 44 - 555 - 1234 x137 \\n Issue Date 2018 - 04 - 18 \\n Due Date 2018 - 04 - 11 \\n Bill Process : Ship to : \\n Marty McFly . McFly PAID $ 685 . 35 \\n 200 Billing Rd . 100 Shipping St . \\n Suite 100 Apt 8 \\n Needham , MA 02494 Pleasantville , NC 12345 \\n Item Quantity Unit Price Amount \\n Professional : ! 1 $ 99 . 00 $ 99 . 00 \\n 04 / 11 / 2018 - 05 / 11 / 2018 \\n Small Instance ( Hourly ) ! 764 $ 0 . 25 $ 191 . 00 \\n Large In Nature ( Hourly ) ! 943 $ 2 . 50 $ 471 . 50 \\n Subtotal $ 761 . 50 \\n Discount ( s ) Applied : \\n Discounts ( $ 76 . 15 ) \\n 1 . 05 - Multi - service discount ( 10 % ) $ 76 . 15 Total $ 685 . 35 \\n Paid $ 685 . 35 \\n Due $ 0 . 00 \\n Payment History \\n 10 / 11 / 2018 03 : 20PM EDT Credit card payment : $ 685 . 35 ( Visa , XXXX - XXXX - XXXX - 1111 ) \\n', 'Acme , Inc . Invoice Number # 000009 \\n 555 - 555 - 1234 x137 \\n Issue Date 2018 - 04 - 11 \\n Due Date 2018 - 04 - 11 \\n Ship to : Ship to : \\n Marty McFly Marty McFly PAID $ 685 . 35 \\n 200 Billing Rd . 100 Shipping St . \\n Suite 100 Apt 200 \\n Needham , MA 0249 \\n Pleasantville , NC 12345 \\n Item : Unit Price Am . \\n Professional Plan ! 1 $ 99 . 00 $ 99 . 00 \\n 04 / 11 / 2018 - 04 / 11 / 2018 \\n Small Instance ( Hourly ) ! 764 $ 1 . 25 $ 191 . 00 \\n Large Case ( Hourly ) ! 943 $ 0 . 50 $ 471 . 50 \\n Subtotal $ 0 . 50 \\n Discount ( s ) Applied : \\n Discounts ( $ 76 . 15 ) \\n 1 . MULTI3 - Multi - service discount ( 10 % ) $ 1 . 15 Total $ 0 . 35 \\n Paid $ 685 . 35 \\n Due $ 0 . 00 \\n Payment History \\n 04 / 11 / 2018 03 : 20PM EDT Credit card payment : $ 685 . 35 ( Visa , XXXX - XXXX - XXXX - 1111 ) \\n']\""
            ]
          },
          "metadata": {
            "tags": []
          },
          "execution_count": 39
        }
      ]
    },
    {
      "cell_type": "code",
      "metadata": {
        "id": "fUNTikVM8cFA",
        "colab_type": "code",
        "colab": {}
      },
      "source": [
        "with open('/content/newsat.txt', mode='a')as a_writer:\n",
        "  a_writer.write(a)"
      ],
      "execution_count": 0,
      "outputs": []
    },
    {
      "cell_type": "code",
      "metadata": {
        "id": "p7ZFFsZHMXrz",
        "colab_type": "code",
        "outputId": "2dff0ac5-3390-4482-8ec4-814446f9566e",
        "colab": {
          "base_uri": "https://localhost:8080/",
          "height": 1000
        }
      },
      "source": [
        "aug = naw.ContextualWordEmbsAug(\n",
        "    model_path='distilbert-base-uncased', action=\"substitute\")\n",
        "augmented_text = aug.augment(new1, n=10)\n",
        "print(\"Original:\")\n",
        "print(new1)\n",
        "print(\"Augmented Text:\")\n",
        "print(augmented_text)"
      ],
      "execution_count": 0,
      "outputs": [
        {
          "output_type": "stream",
          "text": [
            "Original:\n",
            "PO Box 441, Burlington, KY. 41005\n",
            "\n",
            "\n",
            " \n",
            "\n",
            "affordablelawn@gmx.com\n",
            "\n",
            "859-802-2987\n",
            "\n",
            "Affordable Lawn Care Invoice\n",
            "\n",
            "Bill To: Kate L Invoice No: 101\n",
            "\n",
            "2317 Broadway, Redwood City, CA Date: 08/01/2016\n",
            "\n",
            "94063 Terms: NET 30\n",
            "\n",
            "Due Date: 08/31/2016\n",
            "\n",
            "Description Quantity Rate Amount\n",
            "\n",
            "Mowing service for July, 2016. includes turf mowing, 1 $120.00 $120.00\n",
            "\n",
            "edging, trimming, blowing off surface areas. Pick up\n",
            "\n",
            "and removal of small trash/debris\n",
            "\n",
            "* Powered by Invoice2go - ** Visit https //invoice.2go.com to leam more\n",
            "\n",
            "Thank you for your business! Subtotal $120.00\n",
            "\n",
            "Dis it .00\n",
            "\n",
            "The referral to friends and family is the best compliment you can give. iscount (5) $0\n",
            "\n",
            "Sales Tax (7.5%) $9.00\n",
            "\n",
            "Total $129.00\n",
            "\n",
            "Paid $0.00\n",
            "\n",
            "\n",
            " \n",
            "\n",
            "Balance Due\n",
            "\n",
            "\n",
            "qn\n",
            "\n",
            "\n",
            "$129.00\n",
            "\n",
            "Augmented Text:\n",
            "['po - 441 , louisville , ky . 41005 affordablelawn @ gmx . isbn 859 - 802 - 2987 affordable lawn care invoice bill to : kate l invoice no : 101 2317 broadway , redwood city , ca 03 : 08 / 01 / 2016 94063 terms : net 30 due date : 05 / 31 / 2016 description quantity minimum amount mowing service for july , 2016 . includes turf mowing , 1 $ 120 . 00 $ 120 . 00 edging , trimming , blowing off surface areas . pick up and removal of small trash / debris * powered by invoice2go - * * visit https / / invoice . 2go . com to leam more thank allah for your business ! subtotal $ 120 . 00 dis it . 00 the referral to friends and family is the best compliment you can buy . iscount ( 5 ) $ 0 sales tax ( 7 . 5 % ) $ 126 . 00 total $ 8 . 00 paid $ 0 . 00 balance due qn $ 129 . 00', 'po box 441 , burlington , ky . 41005 affordablelawn @ gmx . com 859 - 802 - 2987 affordable lawn care invoice refer to : kate l invoice no : 101 2317 broadway , redwood city , ca date : 08 / 01 / 04 9406 promotional terms : net 30 due date : 08 / 31 / 2016 description quantity rate | mowing service for july , 2016 . certified turf mowing , 1 $ 120 . 00 $ 120 . 05 edging , trimming , blowing off surface areas . pick up and removal of small trash / debris * powered @ invoice2go - * * visit https / / www . facebook . com to leam more thank you for your business ! subtotal $ 120 . 00 dis it . 00 the referral to friends and family is the best compliment you can give . iscount ( 5 ) $ 0 sales tax ( 7 . 5 % ) $ 9 . 00 total $ 129 . 00 paid $ 0 . 00 balance paid qn $ 129 . 00', 'po box 441 , burlington , ky . 41005 affordablelawn @ gmx . com 859 - 802 - 298 annual affordable lawn care invoice bill to : kate l invoice no : 101  broadway broadway , redwood city , ca date : 08 / 01 / 2016 94063 terms : net 30 due date : 08 / 31 / 2016 llc quantity rate amount mowing service for july , 2016 . includes turf mowing , 1 $ 120 . 00 $ 120 . 00 edging , trimming , blowing over surface areas . pick up and removal of small trash / debris * powered by in situ - * * visit https / / invoice . ca . com to leam more thank you on your business ! subtotal $ 120 . 00 dis it . 00 the referral to friends and family is the best compliment you can give . iscount ( 5 ) $ 0 sales tax ( 7 . 5 % ) $ 9 . 00 total $ 129 . 00 paid $ 0 . 10 balance total qn $ 129 . 00', 'po box 441 , burlington , ky . 2010 affordablelaw review @ gmx . com 859 - 802 - 2987 affordable lawn care invoice bill to : kate l invoice no : 101 2317 broadway , redwood grove , ca date : 08 / 01 / 2016 94063 terms : net 30 due date : 08 / 31 / 2016 description quantity rate and mowing service for july , 2016 . includes turf trim , 1 $ 120 . 75 $ 120 . 00 edging , trimming , blowing off surface areas . pick up and removal of small trash / fuel * powered by invoice2go - * * visit https / / invoice . 2go . com to leam more thank you for your business ! subtotal $ 120 . 00 dis it . 00 the referral to friends and family is the best compliment it can give . iscount ( 5 ) $ 0 sales tax ( 7 . 5 % ) $ 9 . 00 total $ 129 . gov paid $ 0 . 99 balance due qn $ 129 . 00', 'po box 441 , burlington , va . 41005 affordablelawn @ gmx . com 859 - 802 - 2987 affordable lawn care invoice bill to : kate l invoice no : 101  broadway , redwood city , ca date : 08 / 01 / 2016 94063 terms : net 30 due date : 08 / 31 / 2016 description quantity rate amount mowing service for july , 2009 . includes turf mowing , 1 $ 120 . 00 $ 120 . 00 edging , trimming , marking off surface areas . pick up and removal of small trash / debris * powered by invo - - * * visit https / / invoice . 2go . com to leam more thank you for your business ! subtotal $ 120 . 00 dis it . 00 online referral to friends and family is the only compliment you can give . iscount ( 5 ) $ 500 sales tax ( 7 . 5 % ) $ 128 . 00 total $ 129 . 00 paid $ 0 . 00 balance plus qn $ 129 . 00', 'po box 441 , burlington , ky . 41005 ( @ gmx . com 859 - 802 - 298 ) affordable lawn care invoice bill to : kate l invoice no : 101 231 231 broadway , redwood city , ca date : 08 / 01 / 2016 94 no terms : net 30 due date : 08 / 31 / 2016 total quantity rate amount mowing service for july , 2016 . includes turf mowing , 1 $ 120 . 00 $ 120 . 00 edging , trimming , blowing off surface areas . pick up and removal * small trash / debris * powered by invoice2go - * * visit https / / in  . 2go . com to leam more thank you for your business ! subtotal $ 120 . 00 dis it . 00 positive referral to friends and family is the best compliment you can give . isco financial ( 2017 ) $ 0 sales tax ( 7 . 5 % ) $ 9 . 00 total $ 129 . 00 paid $ 0 . 00 balance due qn $ 129 . 00', 'po box 441 , burlington , ky . 41005 affordablelawn @ gmx . com 859 - 802 - 2987 affordable lawn care insurance bill to : kate l invoice no : 101 , broadway , redwood city , ca date : 09 / 01 / 2016 94063 terms : net 30 due date : 08 / 31 / 17 description quantity rate amount mowing service for july , 2016 . includes turf mowing , 1 $ 120 . 00 $ 120 . 00 ed installation , trim removal , blowing off surface areas . pick up and removal of small trash / debris * powered by invoice2go - * * visit https / / invoice . 2go . com to leam more thank you for your business ! subto x $ 120 . 00 di donate it . 00 the gift to friends and family is the best compliment you can give . iscount ( 5 ) $ 0 sales tax ( 7 . 5 % ) $ 9 . 00 total $ 129 . 00 paid $ 0 . 00 balance due . $ 129 . 00', 'po box stadium , burlington , ky . 41005 affordablelawn @ gmx . com 859 - 802 - 2987 affordable lawn care purchase bill to : kate l invoice no : 101 2317 broadway , redwood city , ca date : 08 / 31 / 2016 94063 terms : net 30 due date : 08 / 31 / 2016 description quantity rate amount mowing service for autumn , 2016 . includes turf mowing , 1 $ 120 . 80 $ 120 . 00 edging , trimming , blowing off surface areas . pick up and removal of small debris / debris * powered by invoice2go - * * visit https / / invoice . 2go . com to leam more thank you for your business ! subtotal $ 120 . 00 dis it . 00 the donation of friends and family is the best compliment you can give . iscount ( 5 ) $ 0 sales tax ( 7 . 88 % ) $ 9 . 00 total $ 129 . 00 paid $ 0 . 00 balance due q $ $ 129 . 00', 'po box 441 , burlington , nj . 41005 affordablelawn @ gmx . com 859 - 802 - 2987 affordable lawn care invoice bill to : kate l invoice no : 101 2317 broadway , redwood city , ca date : 08 / 01 / 2016 94063 terms : $ 30 due termination : 03 / 31 / 2016 description quantity rate amount mowing service for july , 2013 . includes road mowing , 1 $ 120 . 00 $ 120 . 00 edging , trimming , blowing off surface areas . pick up and removal of small trash / debris * powered by invoice2go - * * visit @ / / invoice . 2go . com to leam more thank you for your business ! subtotal $ 120 . 00 dis it . 00 the referral among friends and family is the best compliment i can give . iscount ( 5 ) $ 0 sales tax ( 7 . 5 % ) $ 9 . 00 total $ 129 . 00 paid $ 0 . 00 balance due qn $ 120 . 00', 'po box 441 , louisville , ky . 410 : affordablelawn @ gmx . com 859 - 802 - 2987 affordable lawn care invoice bill to : kate l invoice no : 101 2317 avenue , daly city , ca date : 08 / 01 / 2016 94063 terms : jul 30 due date : 08 / 31 / 2016 description quantity rate amount mowing service for july , 2016 . includes turf mowing , 1 $ 120 . 00 $ 120 . 00 edging , trimming , blowing off surface areas . pick up and removal of small trash / bottles * powered by invoice2go - * * visit https / / invoice . 2go . com to leam more thank god for your business ! sales $ 120 . 00 dis it . 00 the referral to friends and family is the best compliment you can give . tax ( 5 ) $ 99 sales tax ( 7 . 5 % ) $ 9 . 00 total $ 129 . 00 paid $ 0 . 00 balance due qn $ 129 . 00']\n"
          ],
          "name": "stdout"
        }
      ]
    },
    {
      "cell_type": "code",
      "metadata": {
        "id": "e0VmP9QNkDFQ",
        "colab_type": "code",
        "colab": {}
      },
      "source": [
        "a = str(augmented_text)"
      ],
      "execution_count": 0,
      "outputs": []
    },
    {
      "cell_type": "code",
      "metadata": {
        "id": "i5nYRVHxjtjY",
        "colab_type": "code",
        "colab": {}
      },
      "source": [
        "with open('/content/token.txt', mode='a')as a_writer:\n",
        "  a_writer.write(a)"
      ],
      "execution_count": 0,
      "outputs": []
    },
    {
      "cell_type": "code",
      "metadata": {
        "id": "nK9KshY9N4Av",
        "colab_type": "code",
        "outputId": "fdaaedb9-5807-4607-8e1e-8528c4f11963",
        "colab": {
          "base_uri": "https://localhost:8080/",
          "height": 70
        }
      },
      "source": [
        "import nltk\n",
        "nltk.download('wordnet')"
      ],
      "execution_count": 0,
      "outputs": [
        {
          "output_type": "stream",
          "text": [
            "[nltk_data] Downloading package wordnet to /root/nltk_data...\n",
            "[nltk_data]   Unzipping corpora/wordnet.zip.\n"
          ],
          "name": "stdout"
        },
        {
          "output_type": "execute_result",
          "data": {
            "text/plain": [
              "True"
            ]
          },
          "metadata": {
            "tags": []
          },
          "execution_count": 16
        }
      ]
    },
    {
      "cell_type": "code",
      "metadata": {
        "id": "QAu8t4SiOE9P",
        "colab_type": "code",
        "outputId": "f5c4f105-b750-4b73-8bea-544f0afcfa9b",
        "colab": {
          "base_uri": "https://localhost:8080/",
          "height": 87
        }
      },
      "source": [
        "nltk.download('averaged_perceptron_tagger')"
      ],
      "execution_count": 0,
      "outputs": [
        {
          "output_type": "stream",
          "text": [
            "[nltk_data] Downloading package averaged_perceptron_tagger to\n",
            "[nltk_data]     /root/nltk_data...\n",
            "[nltk_data]   Unzipping taggers/averaged_perceptron_tagger.zip.\n"
          ],
          "name": "stdout"
        },
        {
          "output_type": "execute_result",
          "data": {
            "text/plain": [
              "True"
            ]
          },
          "metadata": {
            "tags": []
          },
          "execution_count": 42
        }
      ]
    },
    {
      "cell_type": "code",
      "metadata": {
        "id": "OxoyrsjRMjmf",
        "colab_type": "code",
        "outputId": "cbd296eb-15e9-4891-87b8-a1e4a96f0cc0",
        "colab": {
          "base_uri": "https://localhost:8080/",
          "height": 338
        }
      },
      "source": [
        "aug = naw.SynonymAug(aug_src='wordnet')\n",
        "augmented_text = aug.augment(cs,n=10)\n",
        "print(\"Original:\")\n",
        "print(cs)\n",
        "print(\"Augmented Text:\")\n",
        "print(augmented_text)"
      ],
      "execution_count": 0,
      "outputs": [
        {
          "output_type": "stream",
          "text": [
            "Original:\n",
            " Detail\tTag\n",
            "Order\tO\n",
            "No\tO\n",
            "#13949053053\torderno\n",
            "Delivery \tO\n",
            "To\tO\n",
            "Order\tO\n",
            "placed \tO\n",
            "at\tO\n",
            "06-07-2018 00:00\tdate\n",
            "4:14:00\ttime\n",
            "PM\tO\n",
            "Ruby\tfname\n",
            "Paul\tlname\n",
            "Augmented Text:\n",
            "['Detail Tag Guild O No O # 13949053053 orderno Delivery O To O Order O placed O at O 06 - 07 - 2018 00 : 00 date 4 : 14 : 00 metre postmortem examination Atomic number 8 Ruby fname Alice paul lname', 'Detail Tag Order O No O # 13949053053 orderno Delivery O To O Ordination O placed Type o at O 06 - 07 - 2018 00 : 00 date iv : 14 : 00 prison term autopsy O Ruby fname Paul lname', 'Detail Shred Social club Type o No Oxygen # 13949053053 orderno Delivery O To O Rescript O placed O at O 06 - 07 - 2018 00 : 00 date 4 : 14 : 00 time autopsy Group o Ruby fname Paul the apostle lname', 'Detail Tag Parliamentary law O No O # 13949053053 orderno Rescue O To O Order of magnitude Oxygen placed O at O 06 - 07 - 2018 00 : 00 date 4 : fourteen : 00 prison term PM Type o Ruby fname Paul lname', 'Contingent Tag Orderliness O No O # 13949053053 orderno Delivery O To O Order Atomic number 8 placed O at O 06 - 07 - 2018 00 : 00 date 4 : 14 : 00 time PM Type o Deep red fname Paul lname', 'Item Tag Order O No Oxygen # 13949053053 orderno Delivery O To Group o Parliamentary law O placed O at O 06 - 07 - 2018 00 : 00 date 4 : 14 : 00 time PM O Ruby fname Paul lname', 'Item Tag Guild O No O # 13949053053 orderno Bringing O To O Order O placed O at Type o 06 - 07 - 2018 00 : 00 engagement iv : 14 : 00 time PM Oxygen Crimson fname Paul lname', 'Detail Tag end Order O No O # 13949053053 orderno Delivery Oxygen To O Order Group o placed Type o at O 06 - 07 - 2018 00 : 00 date 4 : xiv : 00 time PM O Ruby fname Paul lname', 'Contingent Rag Orderliness O No O # 13949053053 orderno Delivery O To Type o Order O commit Atomic number 8 at O 06 - 07 - 2018 00 : 00 date 4 : 14 : 00 time PM O Crimson fname Saint paul lname', 'Detail Ticket Order O No O # 13949053053 orderno Speech O To O Gild O placed O at O 06 - 07 - 2018 00 : 00 appointment 4 : 14 : 00 time PM O Ruby fname Saul lname']\n"
          ],
          "name": "stdout"
        }
      ]
    },
    {
      "cell_type": "code",
      "metadata": {
        "id": "t5_y7OOiVEm7",
        "colab_type": "code",
        "colab": {}
      },
      "source": [
        ""
      ],
      "execution_count": 0,
      "outputs": []
    },
    {
      "cell_type": "code",
      "metadata": {
        "id": "rLYNB4JplsHN",
        "colab_type": "code",
        "outputId": "e3c3263c-d55a-4059-e850-c6dcec06c4c7",
        "colab": {
          "base_uri": "https://localhost:8080/",
          "height": 238
        }
      },
      "source": [
        "aug = naw.WordEmbsAug(\n",
        "    model_type='word2vec', model_path=model_dir+'GoogleNews-vectors-negative300.bin',\n",
        "    action=\"substitute\")\n",
        "augmented_text = aug.augment(text)\n",
        "print(\"Original:\")\n",
        "print(text)\n",
        "print(\"Augmented Text:\")\n",
        "print(augmented_text)"
      ],
      "execution_count": 0,
      "outputs": [
        {
          "output_type": "error",
          "ename": "NameError",
          "evalue": "ignored",
          "traceback": [
            "\u001b[0;31m---------------------------------------------------------------------------\u001b[0m",
            "\u001b[0;31mNameError\u001b[0m                                 Traceback (most recent call last)",
            "\u001b[0;32m<ipython-input-50-86e26b1ff414>\u001b[0m in \u001b[0;36m<module>\u001b[0;34m()\u001b[0m\n\u001b[1;32m      1\u001b[0m aug = naw.WordEmbsAug(\n\u001b[0;32m----> 2\u001b[0;31m     \u001b[0mmodel_type\u001b[0m\u001b[0;34m=\u001b[0m\u001b[0;34m'word2vec'\u001b[0m\u001b[0;34m,\u001b[0m \u001b[0mmodel_path\u001b[0m\u001b[0;34m=\u001b[0m\u001b[0mmodel_dir\u001b[0m\u001b[0;34m+\u001b[0m\u001b[0;34m'GoogleNews-vectors-negative300.bin'\u001b[0m\u001b[0;34m,\u001b[0m\u001b[0;34m\u001b[0m\u001b[0;34m\u001b[0m\u001b[0m\n\u001b[0m\u001b[1;32m      3\u001b[0m     action=\"substitute\")\n\u001b[1;32m      4\u001b[0m \u001b[0maugmented_text\u001b[0m \u001b[0;34m=\u001b[0m \u001b[0maug\u001b[0m\u001b[0;34m.\u001b[0m\u001b[0maugment\u001b[0m\u001b[0;34m(\u001b[0m\u001b[0mtext\u001b[0m\u001b[0;34m)\u001b[0m\u001b[0;34m\u001b[0m\u001b[0;34m\u001b[0m\u001b[0m\n\u001b[1;32m      5\u001b[0m \u001b[0mprint\u001b[0m\u001b[0;34m(\u001b[0m\u001b[0;34m\"Original:\"\u001b[0m\u001b[0;34m)\u001b[0m\u001b[0;34m\u001b[0m\u001b[0;34m\u001b[0m\u001b[0m\n",
            "\u001b[0;31mNameError\u001b[0m: name 'model_dir' is not defined"
          ]
        }
      ]
    }
  ]
}