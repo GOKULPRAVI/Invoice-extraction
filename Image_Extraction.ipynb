{
  "nbformat": 4,
  "nbformat_minor": 0,
  "metadata": {
    "colab": {
      "name": "Image Extraction.ipynb",
      "provenance": []
    },
    "kernelspec": {
      "name": "python3",
      "display_name": "Python 3"
    }
  },
  "cells": [
    {
      "cell_type": "code",
      "metadata": {
        "id": "RSyR3WFZQ_9I",
        "colab_type": "code",
        "colab": {}
      },
      "source": [
        "from PIL import Image  \n",
        "import PIL  \n",
        "import cv2\n",
        "import matplotlib.pyplot as plt\n",
        "import numpy as np\n",
        "import pandas as pd"
      ],
      "execution_count": 0,
      "outputs": []
    },
    {
      "cell_type": "code",
      "metadata": {
        "id": "i5CbY077RO2U",
        "colab_type": "code",
        "colab": {}
      },
      "source": [
        "#Setting matplot figure size-plot of visualization\n",
        "plt.rcParams['figure.figsize'] = [25, 20]"
      ],
      "execution_count": 0,
      "outputs": []
    },
    {
      "cell_type": "code",
      "metadata": {
        "id": "BgSxAn_hRSQV",
        "colab_type": "code",
        "colab": {}
      },
      "source": [
        "#reading an img\n",
        "path='path'\n",
        "image = cv2.imread(path+'image')\n",
        "plt.imshow(cv2.cvtColor(image, cv2.COLOR_BGR2RGB))"
      ],
      "execution_count": 0,
      "outputs": []
    },
    {
      "cell_type": "code",
      "metadata": {
        "id": "5-k3T38jRWvk",
        "colab_type": "code",
        "colab": {}
      },
      "source": [
        "#grey scaling\n",
        "gray = cv2.cvtColor(image, cv2.COLOR_BGR2GRAY)\n",
        "cv2.imwrite(path+'image',gray)\n",
        "img = cv2.imread(path+'image')"
      ],
      "execution_count": 0,
      "outputs": []
    },
    {
      "cell_type": "code",
      "metadata": {
        "id": "1btXHxdBR1sn",
        "colab_type": "code",
        "colab": {}
      },
      "source": [
        "#denoising\n",
        "dst = cv2.fastNlMeansDenoisingColored(img,None,10,10,7,21)\n",
        "cv2.imwrite(path+'image', dst)\n",
        "img1 = cv2.imread(path+'image')"
      ],
      "execution_count": 0,
      "outputs": []
    },
    {
      "cell_type": "code",
      "metadata": {
        "id": "5iajIxoQR-62",
        "colab_type": "code",
        "colab": {}
      },
      "source": [
        "#text reading using PIL\n",
        "try:\n",
        "    from PIL import Image\n",
        "except ImportError:\n",
        "    import Image\n",
        "import pytesseract\n",
        "text = pytesseract.image_to_string(Image.open(path+'image'))  # We'll use Pillow's Image class to open the image and pytesseract to detect the string in the image\n",
        "print(text)"
      ],
      "execution_count": 0,
      "outputs": []
    }
  ]
}